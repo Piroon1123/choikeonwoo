{
  "nbformat": 4,
  "nbformat_minor": 0,
  "metadata": {
    "colab": {
      "name": "Untitled0.ipynb",
      "provenance": [],
      "authorship_tag": "ABX9TyO6/l4/EFamNrQO0c47uJU7",
      "include_colab_link": true
    },
    "kernelspec": {
      "name": "python3",
      "display_name": "Python 3"
    },
    "language_info": {
      "name": "python"
    }
  },
  "cells": [
    {
      "cell_type": "markdown",
      "metadata": {
        "id": "view-in-github",
        "colab_type": "text"
      },
      "source": [
        "<a href=\"https://colab.research.google.com/github/Piroon1123/choikeonwoo/blob/main/Untitled0.ipynb\" target=\"_parent\"><img src=\"https://colab.research.google.com/assets/colab-badge.svg\" alt=\"Open In Colab\"/></a>"
      ]
    },
    {
      "cell_type": "code",
      "execution_count": null,
      "metadata": {
        "colab": {
          "base_uri": "https://localhost:8080/"
        },
        "id": "9dUeY2FL7IJM",
        "outputId": "6ce84277-dc6d-4f20-b6af-25ffd1454554"
      },
      "outputs": [
        {
          "output_type": "stream",
          "name": "stdout",
          "text": [
            "Mounted at /content/drive\n"
          ]
        }
      ],
      "source": [
        "from google.colab import drive\n",
        "\n",
        "drive.mount('/content/drive')"
      ]
    },
    {
      "cell_type": "code",
      "source": [
        "import pandas as pd\n",
        "\n",
        "user_url = '/content/drive/MyDrive/Colab Notebooks/user_data.xlsx'\n",
        "dfs_user = pd.read_excel(user_url)\n",
        "policy_url = '/content/drive/MyDrive/Colab Notebooks/policy_final.xlsx'\n",
        "dfs_policy = pd.read_excel(policy_url)\n",
        "user = dfs_user.drop(columns=['Unnamed: 0'])\n",
        "policy = dfs_policy.drop(columns=['Unnamed: 0'])"
      ],
      "metadata": {
        "id": "iVXe--4v7Xa6"
      },
      "execution_count": null,
      "outputs": []
    },
    {
      "cell_type": "code",
      "source": [
        "policy['code_graduate'].value_counts()"
      ],
      "metadata": {
        "colab": {
          "base_uri": "https://localhost:8080/"
        },
        "id": "gHPBSnj070Oj",
        "outputId": "6586cdaf-27cd-4244-8c40-459f15da6fed"
      },
      "execution_count": null,
      "outputs": [
        {
          "output_type": "execute_result",
          "data": {
            "text/plain": [
              "A03-00    432909\n",
              "A03-01     36465\n",
              "A03-02      6266\n",
              "A03-04      2298\n",
              "A03-03        94\n",
              "Name: code_graduate, dtype: int64"
            ]
          },
          "metadata": {},
          "execution_count": 11
        }
      ]
    },
    {
      "cell_type": "code",
      "source": [
        "policy['code_target'].value_counts()"
      ],
      "metadata": {
        "colab": {
          "base_uri": "https://localhost:8080/"
        },
        "id": "nqgqFezCOmZG",
        "outputId": "53b0d860-d6fb-44fd-de36-64c12d892511"
      },
      "execution_count": null,
      "outputs": [
        {
          "output_type": "execute_result",
          "data": {
            "text/plain": [
              "A12-19       95647\n",
              "A12-00       71659\n",
              "A12-01-01    48589\n",
              "A12-11       33822\n",
              "A12-02-10    26378\n",
              "A12-05       24140\n",
              "A12-03-00    21708\n",
              "A12-09       20751\n",
              "A12-06       19868\n",
              "A12-13       14703\n",
              "A12-02-05    12446\n",
              "A12-10       12329\n",
              "A12-01-00    11025\n",
              "A12-15        8109\n",
              "A12-12        7008\n",
              "A12-14        6716\n",
              "A12-16        6215\n",
              "A12-03-01     5949\n",
              "A12-02-04     5830\n",
              "A12-07        5253\n",
              "A12-02-11     4365\n",
              "A12-02-03     3682\n",
              "A12-02-02     2903\n",
              "A12-17        1858\n",
              "A12-02-00     1753\n",
              "A12-04        1715\n",
              "A12-02-01     1055\n",
              "A12-18         854\n",
              "A12-02-06      801\n",
              "A12-02-08      773\n",
              "A12-08          97\n",
              "A12-02-07       31\n",
              "Name: code_target, dtype: int64"
            ]
          },
          "metadata": {},
          "execution_count": 12
        }
      ]
    }
  ]
}